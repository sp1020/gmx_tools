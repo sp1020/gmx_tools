{
 "cells": [
  {
   "cell_type": "code",
   "execution_count": null,
   "id": "efa21b19",
   "metadata": {},
   "outputs": [
    {
     "data": {
      "application/vnd.jupyter.widget-view+json": {
       "model_id": "9401ae3e1def4b65999afd5d6c52e705",
       "version_major": 2,
       "version_minor": 0
      },
      "text/plain": [
       "Sheet(cells=(Cell(column_end=0, column_start=0, row_end=0, row_start=0, type='text', value='Alice'), Cell(colu…"
      ]
     },
     "metadata": {},
     "output_type": "display_data"
    },
    {
     "data": {
      "application/vnd.jupyter.widget-view+json": {
       "model_id": "ea38826b70914d0abf0910d1e48903d1",
       "version_major": 2,
       "version_minor": 0
      },
      "text/plain": [
       "Output()"
      ]
     },
     "metadata": {},
     "output_type": "display_data"
    }
   ],
   "source": [
    "import ipysheet\n",
    "import ipywidgets as widgets\n",
    "from IPython.display import display\n",
    "\n",
    "# Output widget to display feedback\n",
    "out = widgets.Output()\n",
    "\n",
    "# Create the sheet\n",
    "sheet = ipysheet.sheet(rows=2, columns=2)\n",
    "cell_name = ipysheet.cell(0, 0, value='Alice')\n",
    "cell_age = ipysheet.cell(0, 1, value=25)\n",
    "\n",
    "# Define validation function\n",
    "def check_age(change):\n",
    "    with out:\n",
    "        out.clear_output()\n",
    "        try:\n",
    "            age = int(change['new'])\n",
    "            if age < 0:\n",
    "                print(\"❌ Age must be a positive number.\")\n",
    "            else:\n",
    "                print(\"✅ Age is valid.\")\n",
    "        except ValueError:\n",
    "            print(\"❌ Age must be an integer.\")\n",
    "\n",
    "# Attach the observer\n",
    "cell_age.observe(check_age, names='value')\n",
    "\n",
    "# Display sheet and feedback\n",
    "display(sheet, out)\n"
   ]
  }
 ],
 "metadata": {
  "kernelspec": {
   "display_name": "gmx_tools",
   "language": "python",
   "name": "python3"
  },
  "language_info": {
   "codemirror_mode": {
    "name": "ipython",
    "version": 3
   },
   "file_extension": ".py",
   "mimetype": "text/x-python",
   "name": "python",
   "nbconvert_exporter": "python",
   "pygments_lexer": "ipython3",
   "version": "3.12.9"
  }
 },
 "nbformat": 4,
 "nbformat_minor": 5
}
